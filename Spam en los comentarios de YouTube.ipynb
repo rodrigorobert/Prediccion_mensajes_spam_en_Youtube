{
 "cells": [
  {
   "cell_type": "code",
   "execution_count": 40,
   "id": "a541541b",
   "metadata": {},
   "outputs": [],
   "source": [
    "import pandas as pd\n",
    "import nltk"
   ]
  },
  {
   "cell_type": "code",
   "execution_count": 41,
   "id": "518e6c03",
   "metadata": {},
   "outputs": [
    {
     "name": "stdout",
     "output_type": "stream",
     "text": [
      "C:\\Users\\MegaTecnologia\\Documents\\Udemy - Procesamiento del lenguaje natural con NLP y Python\\Datasets\n"
     ]
    }
   ],
   "source": [
    "cd C:\\Users\\MegaTecnologia\\Documents\\Udemy - Procesamiento del lenguaje natural con NLP y Python\\Datasets"
   ]
  },
  {
   "cell_type": "code",
   "execution_count": 42,
   "id": "a30d0193",
   "metadata": {},
   "outputs": [
    {
     "name": "stdout",
     "output_type": "stream",
     "text": [
      " El volumen de la unidad C no tiene etiqueta.\n",
      " El número de serie del volumen es: 0A87-BFED\n",
      "\n",
      " Directorio de C:\\Users\\MegaTecnologia\\Documents\\Udemy - Procesamiento del lenguaje natural con NLP y Python\\Datasets\n",
      "\n",
      "09/01/2022  10:43    <DIR>          .\n",
      "09/01/2022  10:43    <DIR>          ..\n",
      "09/01/2022  07:48           485.645 data.csv\n",
      "09/01/2022  09:18           181.465 df_output.csv\n",
      "08/01/2022  20:29         3.774.591 name_gender_dataset.csv\n",
      "18/04/2011  14:53             5.868 readme\n",
      "09/01/2022  08:00           448.993 reviews x.csv\n",
      "09/01/2022  09:13           470.007 reviews.csv\n",
      "09/01/2022  09:21           181.465 reviews_df.csv\n",
      "15/03/2011  22:36           477.907 SMSSpamCollection\n",
      "09/01/2022  10:43            77.057 Youtube - Shakira.csv\n",
      "26/03/2017  18:29            72.706 Youtube05-Shakira.csv\n",
      "              10 archivos      6.175.704 bytes\n",
      "               2 dirs  440.151.826.432 bytes libres\n"
     ]
    }
   ],
   "source": [
    "ls"
   ]
  },
  {
   "cell_type": "code",
   "execution_count": 43,
   "id": "e9a18295",
   "metadata": {},
   "outputs": [],
   "source": [
    "comentarios_df = pd.read_csv('Youtube05-Shakira.csv', header=None,sep=',')"
   ]
  },
  {
   "cell_type": "code",
   "execution_count": 44,
   "id": "d516497e",
   "metadata": {},
   "outputs": [
    {
     "data": {
      "text/plain": [
       "(371, 5)"
      ]
     },
     "execution_count": 44,
     "metadata": {},
     "output_type": "execute_result"
    }
   ],
   "source": [
    "comentarios_df.shape"
   ]
  },
  {
   "cell_type": "code",
   "execution_count": 45,
   "id": "71f929b8",
   "metadata": {},
   "outputs": [
    {
     "data": {
      "text/html": [
       "<div>\n",
       "<style scoped>\n",
       "    .dataframe tbody tr th:only-of-type {\n",
       "        vertical-align: middle;\n",
       "    }\n",
       "\n",
       "    .dataframe tbody tr th {\n",
       "        vertical-align: top;\n",
       "    }\n",
       "\n",
       "    .dataframe thead th {\n",
       "        text-align: right;\n",
       "    }\n",
       "</style>\n",
       "<table border=\"1\" class=\"dataframe\">\n",
       "  <thead>\n",
       "    <tr style=\"text-align: right;\">\n",
       "      <th></th>\n",
       "      <th>0</th>\n",
       "      <th>1</th>\n",
       "      <th>2</th>\n",
       "      <th>3</th>\n",
       "      <th>4</th>\n",
       "    </tr>\n",
       "  </thead>\n",
       "  <tbody>\n",
       "    <tr>\n",
       "      <th>0</th>\n",
       "      <td>COMMENT_ID</td>\n",
       "      <td>AUTHOR</td>\n",
       "      <td>DATE</td>\n",
       "      <td>CONTENT</td>\n",
       "      <td>CLASS</td>\n",
       "    </tr>\n",
       "    <tr>\n",
       "      <th>1</th>\n",
       "      <td>z13lgffb5w3ddx1ul22qy1wxspy5cpkz504</td>\n",
       "      <td>dharma pal</td>\n",
       "      <td>2015-05-29T02:30:18.971000</td>\n",
       "      <td>Nice song﻿</td>\n",
       "      <td>0</td>\n",
       "    </tr>\n",
       "    <tr>\n",
       "      <th>2</th>\n",
       "      <td>z123dbgb0mqjfxbtz22ucjc5jvzcv3ykj</td>\n",
       "      <td>Tiza Arellano</td>\n",
       "      <td>2015-05-29T00:14:48.748000</td>\n",
       "      <td>I love song ﻿</td>\n",
       "      <td>0</td>\n",
       "    </tr>\n",
       "    <tr>\n",
       "      <th>3</th>\n",
       "      <td>z12quxxp2vutflkxv04cihggzt2azl34pms0k</td>\n",
       "      <td>Prìñçeśś Âliś Łøvê Dømíñø Mâđiś™ ﻿</td>\n",
       "      <td>2015-05-28T21:00:08.607000</td>\n",
       "      <td>I love song ﻿</td>\n",
       "      <td>0</td>\n",
       "    </tr>\n",
       "    <tr>\n",
       "      <th>4</th>\n",
       "      <td>z12icv3ysqvlwth2c23eddlykyqut5z1h</td>\n",
       "      <td>Eric Gonzalez</td>\n",
       "      <td>2015-05-28T20:47:12.193000</td>\n",
       "      <td>860,000,000 lets make it first female to reach...</td>\n",
       "      <td>0</td>\n",
       "    </tr>\n",
       "  </tbody>\n",
       "</table>\n",
       "</div>"
      ],
      "text/plain": [
       "                                       0                                   1  \\\n",
       "0                             COMMENT_ID                              AUTHOR   \n",
       "1    z13lgffb5w3ddx1ul22qy1wxspy5cpkz504                          dharma pal   \n",
       "2      z123dbgb0mqjfxbtz22ucjc5jvzcv3ykj                       Tiza Arellano   \n",
       "3  z12quxxp2vutflkxv04cihggzt2azl34pms0k  Prìñçeśś Âliś Łøvê Dømíñø Mâđiś™ ﻿   \n",
       "4      z12icv3ysqvlwth2c23eddlykyqut5z1h                       Eric Gonzalez   \n",
       "\n",
       "                            2  \\\n",
       "0                        DATE   \n",
       "1  2015-05-29T02:30:18.971000   \n",
       "2  2015-05-29T00:14:48.748000   \n",
       "3  2015-05-28T21:00:08.607000   \n",
       "4  2015-05-28T20:47:12.193000   \n",
       "\n",
       "                                                   3      4  \n",
       "0                                            CONTENT  CLASS  \n",
       "1                                         Nice song﻿      0  \n",
       "2                                      I love song ﻿      0  \n",
       "3                                      I love song ﻿      0  \n",
       "4  860,000,000 lets make it first female to reach...      0  "
      ]
     },
     "execution_count": 45,
     "metadata": {},
     "output_type": "execute_result"
    }
   ],
   "source": [
    "comentarios_df.head(5)"
   ]
  },
  {
   "cell_type": "code",
   "execution_count": 46,
   "id": "34c31eea",
   "metadata": {},
   "outputs": [
    {
     "data": {
      "text/plain": [
       "Index(['id', 'au', 'da', 'contenido', 'clase'], dtype='object')"
      ]
     },
     "execution_count": 46,
     "metadata": {},
     "output_type": "execute_result"
    }
   ],
   "source": [
    "comentarios_df.columns = ['id', 'au', 'da', 'contenido', 'clase']\n",
    "\n",
    "comentarios_df.columns"
   ]
  },
  {
   "cell_type": "code",
   "execution_count": 47,
   "id": "92cc58a1",
   "metadata": {},
   "outputs": [
    {
     "data": {
      "text/html": [
       "<div>\n",
       "<style scoped>\n",
       "    .dataframe tbody tr th:only-of-type {\n",
       "        vertical-align: middle;\n",
       "    }\n",
       "\n",
       "    .dataframe tbody tr th {\n",
       "        vertical-align: top;\n",
       "    }\n",
       "\n",
       "    .dataframe thead th {\n",
       "        text-align: right;\n",
       "    }\n",
       "</style>\n",
       "<table border=\"1\" class=\"dataframe\">\n",
       "  <thead>\n",
       "    <tr style=\"text-align: right;\">\n",
       "      <th></th>\n",
       "      <th>id</th>\n",
       "      <th>au</th>\n",
       "      <th>da</th>\n",
       "      <th>contenido</th>\n",
       "      <th>clase</th>\n",
       "    </tr>\n",
       "  </thead>\n",
       "  <tbody>\n",
       "    <tr>\n",
       "      <th>0</th>\n",
       "      <td>COMMENT_ID</td>\n",
       "      <td>AUTHOR</td>\n",
       "      <td>DATE</td>\n",
       "      <td>CONTENT</td>\n",
       "      <td>CLASS</td>\n",
       "    </tr>\n",
       "    <tr>\n",
       "      <th>1</th>\n",
       "      <td>z13lgffb5w3ddx1ul22qy1wxspy5cpkz504</td>\n",
       "      <td>dharma pal</td>\n",
       "      <td>2015-05-29T02:30:18.971000</td>\n",
       "      <td>Nice song﻿</td>\n",
       "      <td>0</td>\n",
       "    </tr>\n",
       "    <tr>\n",
       "      <th>2</th>\n",
       "      <td>z123dbgb0mqjfxbtz22ucjc5jvzcv3ykj</td>\n",
       "      <td>Tiza Arellano</td>\n",
       "      <td>2015-05-29T00:14:48.748000</td>\n",
       "      <td>I love song ﻿</td>\n",
       "      <td>0</td>\n",
       "    </tr>\n",
       "    <tr>\n",
       "      <th>3</th>\n",
       "      <td>z12quxxp2vutflkxv04cihggzt2azl34pms0k</td>\n",
       "      <td>Prìñçeśś Âliś Łøvê Dømíñø Mâđiś™ ﻿</td>\n",
       "      <td>2015-05-28T21:00:08.607000</td>\n",
       "      <td>I love song ﻿</td>\n",
       "      <td>0</td>\n",
       "    </tr>\n",
       "    <tr>\n",
       "      <th>4</th>\n",
       "      <td>z12icv3ysqvlwth2c23eddlykyqut5z1h</td>\n",
       "      <td>Eric Gonzalez</td>\n",
       "      <td>2015-05-28T20:47:12.193000</td>\n",
       "      <td>860,000,000 lets make it first female to reach...</td>\n",
       "      <td>0</td>\n",
       "    </tr>\n",
       "  </tbody>\n",
       "</table>\n",
       "</div>"
      ],
      "text/plain": [
       "                                      id                                  au  \\\n",
       "0                             COMMENT_ID                              AUTHOR   \n",
       "1    z13lgffb5w3ddx1ul22qy1wxspy5cpkz504                          dharma pal   \n",
       "2      z123dbgb0mqjfxbtz22ucjc5jvzcv3ykj                       Tiza Arellano   \n",
       "3  z12quxxp2vutflkxv04cihggzt2azl34pms0k  Prìñçeśś Âliś Łøvê Dømíñø Mâđiś™ ﻿   \n",
       "4      z12icv3ysqvlwth2c23eddlykyqut5z1h                       Eric Gonzalez   \n",
       "\n",
       "                           da  \\\n",
       "0                        DATE   \n",
       "1  2015-05-29T02:30:18.971000   \n",
       "2  2015-05-29T00:14:48.748000   \n",
       "3  2015-05-28T21:00:08.607000   \n",
       "4  2015-05-28T20:47:12.193000   \n",
       "\n",
       "                                           contenido  clase  \n",
       "0                                            CONTENT  CLASS  \n",
       "1                                         Nice song﻿      0  \n",
       "2                                      I love song ﻿      0  \n",
       "3                                      I love song ﻿      0  \n",
       "4  860,000,000 lets make it first female to reach...      0  "
      ]
     },
     "execution_count": 47,
     "metadata": {},
     "output_type": "execute_result"
    }
   ],
   "source": [
    "comentarios_df.head(5)"
   ]
  },
  {
   "cell_type": "code",
   "execution_count": 48,
   "id": "24d83417",
   "metadata": {},
   "outputs": [
    {
     "data": {
      "text/html": [
       "<div>\n",
       "<style scoped>\n",
       "    .dataframe tbody tr th:only-of-type {\n",
       "        vertical-align: middle;\n",
       "    }\n",
       "\n",
       "    .dataframe tbody tr th {\n",
       "        vertical-align: top;\n",
       "    }\n",
       "\n",
       "    .dataframe thead th {\n",
       "        text-align: right;\n",
       "    }\n",
       "</style>\n",
       "<table border=\"1\" class=\"dataframe\">\n",
       "  <thead>\n",
       "    <tr style=\"text-align: right;\">\n",
       "      <th></th>\n",
       "      <th>contenido</th>\n",
       "      <th>clase</th>\n",
       "    </tr>\n",
       "  </thead>\n",
       "  <tbody>\n",
       "    <tr>\n",
       "      <th>0</th>\n",
       "      <td>CONTENT</td>\n",
       "      <td>CLASS</td>\n",
       "    </tr>\n",
       "    <tr>\n",
       "      <th>1</th>\n",
       "      <td>Nice song﻿</td>\n",
       "      <td>0</td>\n",
       "    </tr>\n",
       "    <tr>\n",
       "      <th>2</th>\n",
       "      <td>I love song ﻿</td>\n",
       "      <td>0</td>\n",
       "    </tr>\n",
       "    <tr>\n",
       "      <th>3</th>\n",
       "      <td>I love song ﻿</td>\n",
       "      <td>0</td>\n",
       "    </tr>\n",
       "    <tr>\n",
       "      <th>4</th>\n",
       "      <td>860,000,000 lets make it first female to reach...</td>\n",
       "      <td>0</td>\n",
       "    </tr>\n",
       "  </tbody>\n",
       "</table>\n",
       "</div>"
      ],
      "text/plain": [
       "                                           contenido  clase\n",
       "0                                            CONTENT  CLASS\n",
       "1                                         Nice song﻿      0\n",
       "2                                      I love song ﻿      0\n",
       "3                                      I love song ﻿      0\n",
       "4  860,000,000 lets make it first female to reach...      0"
      ]
     },
     "execution_count": 48,
     "metadata": {},
     "output_type": "execute_result"
    }
   ],
   "source": [
    "#comentarios_df = comentarios_df.drop(['COMMENT_ID', 'AUTHOR', 'DATE'], axis=1)\n",
    "#comentarios_df = comentarios_df.drop(['AUTHOR'], axis=1)\n",
    "#comentarios_df = comentarios_df.drop(['DATE'], axis=1)\n",
    "\n",
    "comentarios_df = comentarios_df.drop(comentarios_df.columns[[0,1,2]], axis=1)\n",
    "\n",
    "comentarios_df.head(5)"
   ]
  },
  {
   "cell_type": "code",
   "execution_count": 49,
   "id": "1887cf5d",
   "metadata": {},
   "outputs": [
    {
     "data": {
      "text/html": [
       "<div>\n",
       "<style scoped>\n",
       "    .dataframe tbody tr th:only-of-type {\n",
       "        vertical-align: middle;\n",
       "    }\n",
       "\n",
       "    .dataframe tbody tr th {\n",
       "        vertical-align: top;\n",
       "    }\n",
       "\n",
       "    .dataframe thead th {\n",
       "        text-align: right;\n",
       "    }\n",
       "</style>\n",
       "<table border=\"1\" class=\"dataframe\">\n",
       "  <thead>\n",
       "    <tr style=\"text-align: right;\">\n",
       "      <th></th>\n",
       "      <th>contenido</th>\n",
       "      <th>clase</th>\n",
       "    </tr>\n",
       "  </thead>\n",
       "  <tbody>\n",
       "    <tr>\n",
       "      <th>1</th>\n",
       "      <td>Nice song﻿</td>\n",
       "      <td>0</td>\n",
       "    </tr>\n",
       "    <tr>\n",
       "      <th>2</th>\n",
       "      <td>I love song ﻿</td>\n",
       "      <td>0</td>\n",
       "    </tr>\n",
       "    <tr>\n",
       "      <th>3</th>\n",
       "      <td>I love song ﻿</td>\n",
       "      <td>0</td>\n",
       "    </tr>\n",
       "    <tr>\n",
       "      <th>4</th>\n",
       "      <td>860,000,000 lets make it first female to reach...</td>\n",
       "      <td>0</td>\n",
       "    </tr>\n",
       "    <tr>\n",
       "      <th>5</th>\n",
       "      <td>shakira is best for worldcup﻿</td>\n",
       "      <td>0</td>\n",
       "    </tr>\n",
       "    <tr>\n",
       "      <th>...</th>\n",
       "      <td>...</td>\n",
       "      <td>...</td>\n",
       "    </tr>\n",
       "    <tr>\n",
       "      <th>366</th>\n",
       "      <td>I love this song because we sing it at Camp al...</td>\n",
       "      <td>0</td>\n",
       "    </tr>\n",
       "    <tr>\n",
       "      <th>367</th>\n",
       "      <td>I love this song for two reasons: 1.it is abou...</td>\n",
       "      <td>0</td>\n",
       "    </tr>\n",
       "    <tr>\n",
       "      <th>368</th>\n",
       "      <td>wow</td>\n",
       "      <td>0</td>\n",
       "    </tr>\n",
       "    <tr>\n",
       "      <th>369</th>\n",
       "      <td>Shakira u are so wiredo</td>\n",
       "      <td>0</td>\n",
       "    </tr>\n",
       "    <tr>\n",
       "      <th>370</th>\n",
       "      <td>Shakira is the best dancer</td>\n",
       "      <td>0</td>\n",
       "    </tr>\n",
       "  </tbody>\n",
       "</table>\n",
       "<p>370 rows × 2 columns</p>\n",
       "</div>"
      ],
      "text/plain": [
       "                                             contenido clase\n",
       "1                                           Nice song﻿     0\n",
       "2                                        I love song ﻿     0\n",
       "3                                        I love song ﻿     0\n",
       "4    860,000,000 lets make it first female to reach...     0\n",
       "5                        shakira is best for worldcup﻿     0\n",
       "..                                                 ...   ...\n",
       "366  I love this song because we sing it at Camp al...     0\n",
       "367  I love this song for two reasons: 1.it is abou...     0\n",
       "368                                                wow     0\n",
       "369                            Shakira u are so wiredo     0\n",
       "370                         Shakira is the best dancer     0\n",
       "\n",
       "[370 rows x 2 columns]"
      ]
     },
     "execution_count": 49,
     "metadata": {},
     "output_type": "execute_result"
    }
   ],
   "source": [
    "comentarios_df.drop([0],axis=0)"
   ]
  },
  {
   "cell_type": "code",
   "execution_count": 50,
   "id": "c4541268",
   "metadata": {},
   "outputs": [
    {
     "data": {
      "text/html": [
       "<div>\n",
       "<style scoped>\n",
       "    .dataframe tbody tr th:only-of-type {\n",
       "        vertical-align: middle;\n",
       "    }\n",
       "\n",
       "    .dataframe tbody tr th {\n",
       "        vertical-align: top;\n",
       "    }\n",
       "\n",
       "    .dataframe thead th {\n",
       "        text-align: right;\n",
       "    }\n",
       "</style>\n",
       "<table border=\"1\" class=\"dataframe\">\n",
       "  <thead>\n",
       "    <tr style=\"text-align: right;\">\n",
       "      <th></th>\n",
       "      <th>clase</th>\n",
       "      <th>contenido</th>\n",
       "    </tr>\n",
       "  </thead>\n",
       "  <tbody>\n",
       "    <tr>\n",
       "      <th>0</th>\n",
       "      <td>CLASS</td>\n",
       "      <td>CONTENT</td>\n",
       "    </tr>\n",
       "    <tr>\n",
       "      <th>1</th>\n",
       "      <td>0</td>\n",
       "      <td>Nice song﻿</td>\n",
       "    </tr>\n",
       "    <tr>\n",
       "      <th>2</th>\n",
       "      <td>0</td>\n",
       "      <td>I love song ﻿</td>\n",
       "    </tr>\n",
       "    <tr>\n",
       "      <th>3</th>\n",
       "      <td>0</td>\n",
       "      <td>I love song ﻿</td>\n",
       "    </tr>\n",
       "    <tr>\n",
       "      <th>4</th>\n",
       "      <td>0</td>\n",
       "      <td>860,000,000 lets make it first female to reach...</td>\n",
       "    </tr>\n",
       "  </tbody>\n",
       "</table>\n",
       "</div>"
      ],
      "text/plain": [
       "   clase                                          contenido\n",
       "0  CLASS                                            CONTENT\n",
       "1      0                                         Nice song﻿\n",
       "2      0                                      I love song ﻿\n",
       "3      0                                      I love song ﻿\n",
       "4      0  860,000,000 lets make it first female to reach..."
      ]
     },
     "execution_count": 50,
     "metadata": {},
     "output_type": "execute_result"
    }
   ],
   "source": [
    "comentarios_df = comentarios_df[['clase','contenido']]\n",
    "\n",
    "comentarios_df.head(5)"
   ]
  },
  {
   "cell_type": "code",
   "execution_count": 51,
   "id": "1aa0fda7",
   "metadata": {},
   "outputs": [
    {
     "data": {
      "text/plain": [
       "False"
      ]
     },
     "execution_count": 51,
     "metadata": {},
     "output_type": "execute_result"
    }
   ],
   "source": [
    "comentarios_df.isnull().values.any()"
   ]
  },
  {
   "cell_type": "code",
   "execution_count": 52,
   "id": "d1712a88",
   "metadata": {},
   "outputs": [],
   "source": [
    "import string"
   ]
  },
  {
   "cell_type": "code",
   "execution_count": 53,
   "id": "1ef0f85d",
   "metadata": {},
   "outputs": [
    {
     "name": "stderr",
     "output_type": "stream",
     "text": [
      "[nltk_data] Downloading package stopwords to\n",
      "[nltk_data]     C:\\Users\\MegaTecnologia\\AppData\\Roaming\\nltk_data...\n",
      "[nltk_data]   Package stopwords is already up-to-date!\n"
     ]
    }
   ],
   "source": [
    "#para sacar las palabras no importantes\n",
    "\n",
    "nltk.download('stopwords')\n",
    "\n",
    "from nltk.corpus import stopwords"
   ]
  },
  {
   "cell_type": "code",
   "execution_count": 54,
   "id": "45e830d7",
   "metadata": {},
   "outputs": [],
   "source": [
    "#vamos a crear una función que haga todo lo que hicimos hasta acá\n",
    "\n",
    "def procesar_texto(cadena):\n",
    "    sinpunt = [c for c in cadena if c not in string.punctuation]\n",
    "    sinpunt = ''.join(sinpunt)\n",
    "    palabras = sinpunt.split()\n",
    "    cadena_cleaned = [palabra for palabra in palabras if palabra.lower() not in stopwords.words('spanish')]\n",
    "    return cadena_cleaned"
   ]
  },
  {
   "cell_type": "code",
   "execution_count": 55,
   "id": "f4fedc6a",
   "metadata": {},
   "outputs": [
    {
     "data": {
      "text/plain": [
       "0                                            [CONTENT]\n",
       "1                                        [Nice, song﻿]\n",
       "2                                   [I, love, song, ﻿]\n",
       "3                                   [I, love, song, ﻿]\n",
       "4    [860000000, lets, make, it, first, female, to,...\n",
       "Name: contenido, dtype: object"
      ]
     },
     "execution_count": 55,
     "metadata": {},
     "output_type": "execute_result"
    }
   ],
   "source": [
    "#aplicaremos la función sobre df\n",
    "\n",
    "comentarios_df['contenido'].head(5).apply(procesar_texto)"
   ]
  },
  {
   "cell_type": "code",
   "execution_count": 56,
   "id": "f5ef7ddc",
   "metadata": {},
   "outputs": [],
   "source": [
    "#SEGUNDO PASO = vectorizar\n",
    "\n",
    "from sklearn.feature_extraction.text import CountVectorizer"
   ]
  },
  {
   "cell_type": "code",
   "execution_count": 57,
   "id": "4a6cee1a",
   "metadata": {},
   "outputs": [],
   "source": [
    "transformador = CountVectorizer(analyzer=procesar_texto).fit(comentarios_df['contenido'])"
   ]
  },
  {
   "cell_type": "code",
   "execution_count": 58,
   "id": "96c68447",
   "metadata": {},
   "outputs": [],
   "source": [
    "# predicciones --> por ejemplo: como sé si un mensaje es spam o no\n",
    "\n",
    "# - tengo que imporar módulos de ML\n",
    "\n",
    "from sklearn.feature_extraction.text import TfidfTransformer\n",
    "# tranformador de los mensajes... pero no sé en qué los transforma\n",
    "\n",
    "from sklearn.ensemble import RandomForestClassifier\n",
    "# algoritmo de clasificacion\n",
    "\n",
    "from sklearn.model_selection import train_test_split\n",
    "# dividir los datos de entrenamiento y test\n",
    "\n",
    "from sklearn.pipeline import Pipeline\n",
    "# para ejecutar operaciones simultaneamente\n",
    "\n",
    "from sklearn.metrics import classification_report\n",
    "# para hacer el informa de clasificacion de este algoritmo\n"
   ]
  },
  {
   "cell_type": "code",
   "execution_count": 59,
   "id": "9ec02aac",
   "metadata": {},
   "outputs": [],
   "source": [
    "# PRIMERO : dividir mensajes de entrenamiento y mensajes de prueba, con etiquetas\n",
    "\n",
    "# genero cuatro variables correspondietnes \n",
    "\n",
    "com_entr, com_pru, etq_entr, etq_pru = train_test_split(comentarios_df['contenido'], comentarios_df['clase'], test_size=0.3)"
   ]
  },
  {
   "cell_type": "code",
   "execution_count": 60,
   "id": "2257b950",
   "metadata": {},
   "outputs": [],
   "source": [
    "pipeline = Pipeline([\n",
    "    ('vectorizar', CountVectorizer(analyzer=procesar_texto)), #primera operación\n",
    "    ('transformar', TfidfTransformer()),\n",
    "    ('clasificar', RandomForestClassifier())\n",
    "])"
   ]
  },
  {
   "cell_type": "code",
   "execution_count": 61,
   "id": "4a4f9e07",
   "metadata": {},
   "outputs": [
    {
     "data": {
      "text/plain": [
       "Pipeline(steps=[('vectorizar',\n",
       "                 CountVectorizer(analyzer=<function procesar_texto at 0x00000131B0725940>)),\n",
       "                ('transformar', TfidfTransformer()),\n",
       "                ('clasificar', RandomForestClassifier())])"
      ]
     },
     "execution_count": 61,
     "metadata": {},
     "output_type": "execute_result"
    }
   ],
   "source": [
    "# SEGUNDO : entrenar el pipeline con los mensajes de entrenamiento\n",
    "\n",
    "pipeline.fit(com_entr, etq_entr)"
   ]
  },
  {
   "cell_type": "code",
   "execution_count": 62,
   "id": "85990b09",
   "metadata": {},
   "outputs": [],
   "source": [
    "# TERCERO : una vez entrenado el sistema, lo pruebo en sus predicciones\n",
    "\n",
    "predicciones = pipeline.predict(com_pru)"
   ]
  },
  {
   "cell_type": "code",
   "execution_count": 63,
   "id": "f9edb650",
   "metadata": {},
   "outputs": [
    {
     "name": "stdout",
     "output_type": "stream",
     "text": [
      "              precision    recall  f1-score   support\n",
      "\n",
      "           0       0.83      0.98      0.90        61\n",
      "           1       0.97      0.76      0.86        51\n",
      "\n",
      "    accuracy                           0.88       112\n",
      "   macro avg       0.90      0.87      0.88       112\n",
      "weighted avg       0.90      0.88      0.88       112\n",
      "\n"
     ]
    }
   ],
   "source": [
    "# CUARTO : informe de prueba\n",
    "\n",
    "print(classification_report(etq_pru, predicciones))"
   ]
  },
  {
   "cell_type": "code",
   "execution_count": null,
   "id": "fd580fa6",
   "metadata": {},
   "outputs": [],
   "source": []
  }
 ],
 "metadata": {
  "kernelspec": {
   "display_name": "Python 3 (ipykernel)",
   "language": "python",
   "name": "python3"
  },
  "language_info": {
   "codemirror_mode": {
    "name": "ipython",
    "version": 3
   },
   "file_extension": ".py",
   "mimetype": "text/x-python",
   "name": "python",
   "nbconvert_exporter": "python",
   "pygments_lexer": "ipython3",
   "version": "3.9.7"
  }
 },
 "nbformat": 4,
 "nbformat_minor": 5
}
